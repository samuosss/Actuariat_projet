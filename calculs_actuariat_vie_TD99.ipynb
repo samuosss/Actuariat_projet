{
 "cells": [
  {
   "cell_type": "markdown",
   "id": "b159b6bb",
   "metadata": {},
   "source": [
    "# 📘 Calculs Actuariels - Projet Vie TD99"
   ]
  },
  {
   "cell_type": "code",
   "execution_count": 1,
   "id": "a3e6157b",
   "metadata": {},
   "outputs": [],
   "source": [
    "import pandas as pd\n",
    "import numpy as np\n",
    "from datetime import datetime, timedelta"
   ]
  },
  {
   "cell_type": "code",
   "execution_count": 2,
   "id": "ad42236b",
   "metadata": {},
   "outputs": [],
   "source": [
    "df_base = pd.read_excel(\"Base de doonées projet vie.xlsb\", sheet_name=\"Base\", engine=\"pyxlsb\")\n",
    "df_td99 = pd.read_excel(\"TD99.xlsx\", sheet_name=\"TD99\")\n",
    "td99_lx = dict(zip(df_td99[\"Age\"], df_td99[\"NB survivants\"]))"
   ]
  },
  {
   "cell_type": "code",
   "execution_count": 3,
   "id": "b283cacb",
   "metadata": {},
   "outputs": [],
   "source": [
    "def excel_date_to_datetime(excel_date):\n",
    "    return datetime(1899, 12, 30) + timedelta(days=int(excel_date))\n",
    "\n",
    "def calcul_age_proche(date_naissance_excel, effet_excel):\n",
    "    naissance = excel_date_to_datetime(date_naissance_excel)\n",
    "    effet = excel_date_to_datetime(effet_excel)\n",
    "    age_annees = effet.year - naissance.year - ((effet.month, effet.day) < (naissance.month, naissance.day))\n",
    "    mois_diff = (effet.year - naissance.year) * 12 + (effet.month - naissance.month)\n",
    "    return age_annees if mois_diff % 12 < 6 else age_annees + 1\n",
    "\n",
    "df_base[\"AGE\"] = df_base.apply(lambda row: calcul_age_proche(row[\"DATE_NAISSANCE\"], row[\"EFFET\"]), axis=1)\n",
    "df_base[\"Te\"] = df_base[\"TX_intérêt\"].apply(lambda tx: ((1 + tx / 100) ** (1 / 12)) - 1).round(6)"
   ]
  },
  {
   "cell_type": "code",
   "execution_count": 7,
   "id": "532b53fc",
   "metadata": {},
   "outputs": [],
   "source": [
    "\n",
    "# 1. Capital restant dû\n",
    "def capital_restant_du(row):\n",
    "    SA0 = row[\"CAPITAL\"]\n",
    "    n = int(row[\"NB_MENSUALITES\"])\n",
    "    fr = int(row[\"FR\"])\n",
    "    Te = row[\"Te\"]\n",
    "    mode = \"taux\" if Te > 0 else \"lineaire\"\n",
    "\n",
    "    SAj = []\n",
    "    for j in range(1, n + 1):\n",
    "        if j <= fr + 1:\n",
    "            SAj.append(SA0)\n",
    "        else:\n",
    "            if mode == \"lineaire\":\n",
    "                sa_j = SA0 * (1 - (j - fr - 1) / (n - fr))\n",
    "            else:\n",
    "                denom = 1 - (1 + Te) ** -(n - fr)\n",
    "                num = 1 - (1 + Te) ** -(n + 1 - j)\n",
    "                sa_j = SA0 * (num / denom)\n",
    "            SAj.append(sa_j)\n",
    "    return SAj\n",
    "\n",
    "# 2. Prime pure\n",
    "def prime_pure_fast(row):\n",
    "    SAj = capital_restant_du(row)\n",
    "    f = 12\n",
    "    i = row['Te']\n",
    "    aggr = row['TX_AGGRAV']\n",
    "    age = row['AGE']\n",
    "    n = int(row['NB_MENSUALITES'])\n",
    "\n",
    "    l_x = td99_lx.get(age, np.nan)\n",
    "    if pd.isna(l_x) or l_x == 0:\n",
    "        return np.nan\n",
    "\n",
    "    prime = 0\n",
    "    for j in range(1, n + 1):\n",
    "        t = (j - 1 + 0.5) / 12\n",
    "        age_j = age + int((j - 1) / 12)\n",
    "        l_xj = td99_lx.get(age_j, np.nan)\n",
    "        l_xj1 = td99_lx.get(age_j + 1, np.nan)\n",
    "        if any(pd.isna([l_xj, l_xj1])):\n",
    "            continue\n",
    "        q_jx = (l_xj - l_xj1) / l_x\n",
    "        v_j = 1 / ((1 + i) ** t)\n",
    "        prime += SAj[j - 1] * q_jx * v_j\n",
    "\n",
    "    PU = (1 + aggr) / f * prime\n",
    "    return round(PU, 3)\n",
    "\n",
    "# 3. Prime inventaire\n",
    "def prime_inventaire(row):\n",
    "    PU = row[\"Prime pure\"]\n",
    "    g = row[\"FR_GESTION\"]\n",
    "    capital = row[\"CAPITAL\"]\n",
    "    return round(PU + g * capital, 3)\n",
    "\n",
    "# 4. Prime commerciale\n",
    "def prime_commerciale(row):\n",
    "    PU_prime = row[\"Prime inventaire\"]\n",
    "    capital = row[\"CAPITAL\"]\n",
    "    H = 0.01 if capital >= 200000 else 0.10\n",
    "    return round(PU_prime / (1 - H), 3)\n",
    "\n",
    "# 5. Provision mathématique au 31/12/2024\n",
    "def excel_date_to_datetime(excel_date):\n",
    "    return datetime(1899, 12, 30) + timedelta(days=int(excel_date))\n",
    "\n",
    "def provision_mathematique(row):\n",
    "    SAj = capital_restant_du(row)\n",
    "    f = 12\n",
    "    i = row['Te']\n",
    "    aggr = row['TX_AGGRAV']\n",
    "    age = row['AGE']\n",
    "    effet = excel_date_to_datetime(row[\"EFFET\"])\n",
    "    k_mois = (datetime(2024, 12, 31).year - effet.year) * 12 + (datetime(2024, 12, 31).month - effet.month)\n",
    "    n = int(row['NB_MENSUALITES'])\n",
    "\n",
    "    if k_mois >= n or k_mois < 0:\n",
    "        return 0.0\n",
    "\n",
    "    l_xk = td99_lx.get(age + k_mois // 12, np.nan)\n",
    "    if pd.isna(l_xk) or l_xk == 0:\n",
    "        return np.nan\n",
    "\n",
    "    PM = 0\n",
    "    for j in range(k_mois + 1, n + 1):\n",
    "        t = (j - k_mois - 1 + 0.5) / 12\n",
    "        age_j = age + int((j - 1) / 12)\n",
    "        l_xj = td99_lx.get(age_j, np.nan)\n",
    "        l_xj1 = td99_lx.get(age_j + 1, np.nan)\n",
    "        if any(pd.isna([l_xj, l_xj1])):\n",
    "            continue\n",
    "        q_jx = (l_xj - l_xj1) / l_xk\n",
    "        v_j = 1 / ((1 + i) ** t)\n",
    "        frais = row[\"FR_GESTION\"] * l_xj / l_xk / ((1 + i) ** ((j - k_mois - 1) / 12))\n",
    "        PM += SAj[j - 1] * q_jx * v_j + frais\n",
    "\n",
    "    PM_finale = (1 + aggr) / f * PM\n",
    "    return round(PM_finale, 3)\n"
   ]
  },
  {
   "cell_type": "code",
   "execution_count": 8,
   "id": "d424ef01",
   "metadata": {},
   "outputs": [],
   "source": [
    "df_base[\"Prime pure\"] = df_base.apply(prime_pure_fast, axis=1)\n",
    "df_base[\"Prime inventaire\"] = df_base.apply(prime_inventaire, axis=1)\n",
    "df_base[\"Prime commerciale\"] = df_base.apply(prime_commerciale, axis=1)\n",
    "df_base[\"PM 31/12/2024\"] = df_base.apply(provision_mathematique, axis=1)"
   ]
  },
  {
   "cell_type": "code",
   "execution_count": 9,
   "id": "664b2dad",
   "metadata": {},
   "outputs": [
    {
     "name": "stdout",
     "output_type": "stream",
     "text": [
      "✅ Export terminé : resultats_actuariat_vie.xlsx\n"
     ]
    }
   ],
   "source": [
    "df_base.to_excel(\"resultats_actuariat_vie.xlsx\", index=False)\n",
    "print(\"✅ Export terminé : resultats_actuariat_vie.xlsx\")"
   ]
  }
 ],
 "metadata": {
  "kernelspec": {
   "display_name": "Python 3",
   "language": "python",
   "name": "python3"
  },
  "language_info": {
   "codemirror_mode": {
    "name": "ipython",
    "version": 3
   },
   "file_extension": ".py",
   "mimetype": "text/x-python",
   "name": "python",
   "nbconvert_exporter": "python",
   "pygments_lexer": "ipython3",
   "version": "3.13.3"
  }
 },
 "nbformat": 4,
 "nbformat_minor": 5
}
